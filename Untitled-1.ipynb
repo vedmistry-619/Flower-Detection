{
 "metadata": {
  "language_info": {
   "codemirror_mode": {
    "name": "ipython",
    "version": 3
   },
   "file_extension": ".py",
   "mimetype": "text/x-python",
   "name": "python",
   "nbconvert_exporter": "python",
   "pygments_lexer": "ipython3",
   "version": "3.8.5"
  },
  "orig_nbformat": 4,
  "kernelspec": {
   "name": "python3",
   "display_name": "Python 3.8.5 64-bit"
  },
  "interpreter": {
   "hash": "c30e9587ab01b65989d0a6d4bbb96a0e32e3b50fec2e802141ac439de60587e1"
  }
 },
 "nbformat": 4,
 "nbformat_minor": 2,
 "cells": [
  {
   "cell_type": "code",
   "execution_count": 1,
   "source": [
    "import numpy as np\r\n",
    "import os\r\n",
    "import cv2\r\n",
    "import tensorflow as tf\r\n",
    "import pandas as pd"
   ],
   "outputs": [],
   "metadata": {}
  },
  {
   "cell_type": "code",
   "execution_count": 2,
   "source": [
    "images_dir = 'flowers'\r\n",
    "labels = ['daisy','dandelion','rose','sunflower','tulip']\r\n",
    "x = []\r\n",
    "y = []\r\n",
    "for label in labels:\r\n",
    "    data = os.path.join(images_dir,label)\r\n",
    "    for image in os.listdir(data):\r\n",
    "        try:\r\n",
    "            im = cv2.imread(os.path.join(data,image),cv2.IMREAD_COLOR)\r\n",
    "            im = cv2.resize(im,(128,128))\r\n",
    "\r\n",
    "            x.append(im)\r\n",
    "            y.append(labels.index(label))\r\n",
    "        except Exception as e:\r\n",
    "            pass"
   ],
   "outputs": [],
   "metadata": {}
  },
  {
   "cell_type": "code",
   "execution_count": 3,
   "source": [
    "x = np.array(x)/255.0\r\n",
    "y = np.array(y)\r\n",
    "x =x.reshape(-1,128,128,3)\r\n",
    "y= y.reshape(-1,1)\r\n",
    "y= tf.keras.utils.to_categorical(y,5,)"
   ],
   "outputs": [],
   "metadata": {}
  },
  {
   "cell_type": "code",
   "execution_count": 4,
   "source": [
    "dgen = tf.keras.preprocessing.image.ImageDataGenerator(fill_mode= 'nearest',horizontal_flip=False,\r\n",
    "                                                        vertical_flip=False,shear_range=0.1,\r\n",
    "                                                        zoom_range = 0.1,width_shift_range=0.2,height_shift_range=0.2)\r\n",
    "dgen.fit(x)"
   ],
   "outputs": [],
   "metadata": {}
  },
  {
   "cell_type": "code",
   "execution_count": 5,
   "source": [
    "from sklearn.model_selection import train_test_split\r\n",
    "X_train,X_test,y_train,y_test = train_test_split(x,y)"
   ],
   "outputs": [],
   "metadata": {}
  },
  {
   "cell_type": "code",
   "execution_count": 6,
   "source": [
    "model = tf.keras.Sequential([\r\n",
    "    tf.keras.layers.Conv2D(64,(5,5),padding ='same',strides=(2,2),activation='relu',input_shape=(128,128,3)),\r\n",
    "    tf.keras.layers.MaxPooling2D((2,2)),\r\n",
    "    tf.keras.layers.Conv2D(128,(5,5),padding ='same',strides=(2,2),activation='relu'),\r\n",
    "    tf.keras.layers.MaxPooling2D((2,2)),\r\n",
    "    tf.keras.layers.Conv2D(256,(5,5),padding ='same',strides=(2,2),activation='relu'),\r\n",
    "    tf.keras.layers.MaxPooling2D((2,2)),\r\n",
    "    tf.keras.layers.Conv2D(512,(5,5),padding ='same',strides=(2,2),activation='relu'),\r\n",
    "    tf.keras.layers.Flatten(),\r\n",
    "    tf.keras.layers.Dense(1024,activation='relu'),\r\n",
    "    tf.keras.layers.Dropout(0.3),\r\n",
    "    tf.keras.layers.Dense(5,activation='softmax')\r\n",
    "])\r\n",
    "model.summary()\r\n"
   ],
   "outputs": [
    {
     "output_type": "stream",
     "name": "stdout",
     "text": [
      "Model: \"sequential\"\n",
      "_________________________________________________________________\n",
      "Layer (type)                 Output Shape              Param #   \n",
      "=================================================================\n",
      "conv2d (Conv2D)              (None, 64, 64, 64)        4864      \n",
      "_________________________________________________________________\n",
      "max_pooling2d (MaxPooling2D) (None, 32, 32, 64)        0         \n",
      "_________________________________________________________________\n",
      "conv2d_1 (Conv2D)            (None, 16, 16, 128)       204928    \n",
      "_________________________________________________________________\n",
      "max_pooling2d_1 (MaxPooling2 (None, 8, 8, 128)         0         \n",
      "_________________________________________________________________\n",
      "conv2d_2 (Conv2D)            (None, 4, 4, 256)         819456    \n",
      "_________________________________________________________________\n",
      "max_pooling2d_2 (MaxPooling2 (None, 2, 2, 256)         0         \n",
      "_________________________________________________________________\n",
      "conv2d_3 (Conv2D)            (None, 1, 1, 512)         3277312   \n",
      "_________________________________________________________________\n",
      "flatten (Flatten)            (None, 512)               0         \n",
      "_________________________________________________________________\n",
      "dense (Dense)                (None, 1024)              525312    \n",
      "_________________________________________________________________\n",
      "dropout (Dropout)            (None, 1024)              0         \n",
      "_________________________________________________________________\n",
      "dense_1 (Dense)              (None, 5)                 5125      \n",
      "=================================================================\n",
      "Total params: 4,836,997\n",
      "Trainable params: 4,836,997\n",
      "Non-trainable params: 0\n",
      "_________________________________________________________________\n"
     ]
    }
   ],
   "metadata": {}
  },
  {
   "cell_type": "code",
   "execution_count": 7,
   "source": [
    "model.compile(optimizer='adam',loss='categorical_crossentropy',metrics=['accuracy'])"
   ],
   "outputs": [],
   "metadata": {}
  },
  {
   "cell_type": "code",
   "execution_count": 8,
   "source": [
    "earlystop = tf.keras.callbacks.EarlyStopping(monitor='val_loss',patience=4,restore_best_weights=True)"
   ],
   "outputs": [],
   "metadata": {}
  },
  {
   "cell_type": "code",
   "execution_count": 9,
   "source": [
    "history =model.fit(dgen.flow(X_train,y_train,batch_size=32),epochs=20,callbacks=[earlystop],validation_data=dgen.flow(X_test,y_test))"
   ],
   "outputs": [
    {
     "output_type": "stream",
     "name": "stdout",
     "text": [
      "Epoch 1/20\n",
      "102/102 [==============================] - 155s 1s/step - loss: 1.4548 - accuracy: 0.3337 - val_loss: 1.3055 - val_accuracy: 0.3941\n",
      "Epoch 2/20\n",
      "102/102 [==============================] - 136s 1s/step - loss: 1.2509 - accuracy: 0.4377 - val_loss: 1.1302 - val_accuracy: 0.5023\n",
      "Epoch 3/20\n",
      "102/102 [==============================] - 127s 1s/step - loss: 1.1716 - accuracy: 0.5133 - val_loss: 1.0594 - val_accuracy: 0.5708\n",
      "Epoch 4/20\n",
      "102/102 [==============================] - 132s 1s/step - loss: 1.0542 - accuracy: 0.5891 - val_loss: 1.0139 - val_accuracy: 0.5957\n",
      "Epoch 5/20\n",
      "102/102 [==============================] - 131s 1s/step - loss: 0.9737 - accuracy: 0.6320 - val_loss: 0.9029 - val_accuracy: 0.6559\n",
      "Epoch 6/20\n",
      "102/102 [==============================] - 131s 1s/step - loss: 0.9073 - accuracy: 0.6511 - val_loss: 0.8726 - val_accuracy: 0.6605\n",
      "Epoch 7/20\n",
      "102/102 [==============================] - 129s 1s/step - loss: 0.8688 - accuracy: 0.6684 - val_loss: 0.8471 - val_accuracy: 0.6799\n",
      "Epoch 8/20\n",
      "102/102 [==============================] - 129s 1s/step - loss: 0.8426 - accuracy: 0.6866 - val_loss: 0.7871 - val_accuracy: 0.7049\n",
      "Epoch 9/20\n",
      "102/102 [==============================] - 127s 1s/step - loss: 0.7641 - accuracy: 0.7150 - val_loss: 0.7756 - val_accuracy: 0.7169\n",
      "Epoch 10/20\n",
      "102/102 [==============================] - 127s 1s/step - loss: 0.7406 - accuracy: 0.7187 - val_loss: 0.7654 - val_accuracy: 0.7114\n",
      "Epoch 11/20\n",
      "102/102 [==============================] - 129s 1s/step - loss: 0.7013 - accuracy: 0.7440 - val_loss: 0.7650 - val_accuracy: 0.7197\n",
      "Epoch 12/20\n",
      "102/102 [==============================] - 116s 1s/step - loss: 0.6749 - accuracy: 0.7443 - val_loss: 0.7500 - val_accuracy: 0.7077\n",
      "Epoch 13/20\n",
      "102/102 [==============================] - 100s 981ms/step - loss: 0.6687 - accuracy: 0.7511 - val_loss: 0.8446 - val_accuracy: 0.6975\n",
      "Epoch 14/20\n",
      "102/102 [==============================] - 100s 977ms/step - loss: 0.6517 - accuracy: 0.7557 - val_loss: 0.7542 - val_accuracy: 0.7327\n",
      "Epoch 15/20\n",
      "102/102 [==============================] - 93s 912ms/step - loss: 0.6448 - accuracy: 0.7545 - val_loss: 0.7546 - val_accuracy: 0.7428\n",
      "Epoch 16/20\n",
      "102/102 [==============================] - 79s 775ms/step - loss: 0.5973 - accuracy: 0.7748 - val_loss: 0.7547 - val_accuracy: 0.7391\n"
     ]
    }
   ],
   "metadata": {}
  },
  {
   "cell_type": "code",
   "execution_count": 20,
   "source": [
    "import matplotlib.pyplot as plt\r\n",
    "accuracy = history.history['accuracy']\r\n",
    "val_accuracy = history.history['val_accuracy']\r\n",
    "loss = history.history['loss']\r\n",
    "val_loss = history.history['val_loss']\r\n",
    "epochs = range(len(accuracy))\r\n",
    "\r\n",
    "plt.plot(epochs, accuracy, \"b\", label=\"trainning accuracy\")\r\n",
    "plt.plot(epochs, val_accuracy, \"r\", label=\"validation accuracy\")\r\n",
    "plt.legend()\r\n",
    "plt.title(\"Accuracy Comparison\")\r\n",
    "plt.show()\r\n",
    "\r\n",
    "plt.plot(epochs, loss, \"b\", label=\"trainning loss\")\r\n",
    "plt.plot(epochs, val_loss, \"r\", label=\"validation loss\")\r\n",
    "plt.legend()\r\n",
    "plt.title(\"Loss Comparison\")\r\n",
    "plt.show()"
   ],
   "outputs": [
    {
     "output_type": "display_data",
     "data": {
      "text/plain": [
       "<Figure size 432x288 with 1 Axes>"
      ],
      "image/png": "[encoded data removed]"
     },
     "metadata": {
      "needs_background": "light"
     }
    },
    {
     "output_type": "display_data",
     "data": {
      "text/plain": [
       "<Figure size 432x288 with 1 Axes>"
      ],
      "image/png": "[encoded data removed]"
     },
     "metadata": {
      "needs_background": "light"
     }
    }
   ],
   "metadata": {}
  }
 ]
}